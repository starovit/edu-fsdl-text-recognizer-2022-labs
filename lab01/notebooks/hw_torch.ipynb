{
  "nbformat": 4,
  "nbformat_minor": 0,
  "metadata": {
    "colab": {
      "provenance": [],
      "gpuType": "T4",
      "authorship_tag": "ABX9TyM6WkMPz1A4NBzwn4vR7TPJ",
      "include_colab_link": true
    },
    "kernelspec": {
      "name": "python3",
      "display_name": "Python 3"
    },
    "language_info": {
      "name": "python"
    },
    "accelerator": "GPU"
  },
  "cells": [
    {
      "cell_type": "markdown",
      "metadata": {
        "id": "view-in-github",
        "colab_type": "text"
      },
      "source": [
        "<a href=\"https://colab.research.google.com/github/starovit/edu-fsdl-text-recognizer-2022-labs/blob/main/lab01/notebooks/hw_torch.ipynb\" target=\"_parent\"><img src=\"https://colab.research.google.com/assets/colab-badge.svg\" alt=\"Open In Colab\"/></a>"
      ]
    },
    {
      "cell_type": "code",
      "execution_count": 1,
      "metadata": {
        "id": "unWETvtNNaAZ"
      },
      "outputs": [],
      "source": [
        "import pandas as pd\n",
        "import numpy as np\n",
        "import matplotlib.pyplot as plt"
      ]
    },
    {
      "cell_type": "code",
      "source": [
        "# 1 download MNIST\n",
        "\n",
        "from pathlib import Path\n",
        "import requests\n",
        "\n",
        "def download_mnist(path):\n",
        "  url = \"https://github.com/pytorch/tutorials/raw/main/_static/\"\n",
        "  filename = \"mnist.pkl.gz\"\n",
        "\n",
        "  Path(path).mkdir(parents=True, exist_ok=True)\n",
        "  content = requests.get(url + filename).content\n",
        "  with open(path / filename, 'wb') as file:\n",
        "      file.write(content)\n",
        "\n",
        "  return path / filename\n",
        "\n",
        "path = Path(\"data/\")\n",
        "datafile = download_mnist(path)"
      ],
      "metadata": {
        "id": "9hpqQYKiOHMM"
      },
      "execution_count": 2,
      "outputs": []
    },
    {
      "cell_type": "code",
      "source": [
        "# 2 read MNIST\n",
        "\n",
        "import gzip\n",
        "import pickle\n",
        "\n",
        "def read_mnist(path):\n",
        "    with gzip.open(path, \"rb\") as f:\n",
        "        # ignore test\n",
        "        ((x_train, y_train), (x_valid, y_valid), _) = pickle.load(f, encoding=\"latin-1\")\n",
        "    return x_train, y_train, x_valid, y_valid\n",
        "\n",
        "x_train, y_train, x_valid, y_valid = read_mnist(datafile)"
      ],
      "metadata": {
        "id": "xkEfFxLTP45v"
      },
      "execution_count": 3,
      "outputs": []
    },
    {
      "cell_type": "code",
      "source": [
        "# 3 data to tensors\n",
        "\n",
        "import torch\n",
        "\n",
        "x_train, y_train, x_valid, y_valid = map(\n",
        "    torch.tensor, (x_train, y_train, x_valid, y_valid)\n",
        ")"
      ],
      "metadata": {
        "id": "NvM0_VkJrlab"
      },
      "execution_count": 4,
      "outputs": []
    },
    {
      "cell_type": "code",
      "source": [
        "# 3 show random image\n",
        "\n",
        "import random\n",
        "\n",
        "def show_image(image: torch.Tensor, title: str):\n",
        "  new_shape = (int(image.shape[0]**0.5), -1)\n",
        "  image = image.reshape(new_shape)\n",
        "  plt.figure(figsize=(1,1))\n",
        "  plt.axis(\"off\")\n",
        "  plt.imshow(image, cmap=\"gray\")\n",
        "  plt.title(title)\n",
        "\n",
        "\n",
        "index = random.randint(0, y_train.shape[0])\n",
        "show_image(image = x_train[index], title = y_train[index])"
      ],
      "metadata": {
        "colab": {
          "base_uri": "https://localhost:8080/",
          "height": 136
        },
        "id": "n-vhq-d5zPA0",
        "outputId": "7e684e10-b80f-40ee-cd4c-d8de1dcd8816"
      },
      "execution_count": 5,
      "outputs": [
        {
          "output_type": "display_data",
          "data": {
            "text/plain": [
              "<Figure size 100x100 with 1 Axes>"
            ],
            "image/png": "[encoded data removed]"
          },
          "metadata": {}
        }
      ]
    },
    {
      "cell_type": "code",
      "source": [
        "def model(x: torch.Tensor) -> torch.Tensor:\n",
        "  x = x @ weights + bias\n",
        "  # x = torch.exp(x) / torch.sum(torch.exp(x), axis=1, keepdim=True)\n",
        "  x = x - torch.log(torch.sum(torch.exp(x), axis=1))[:, None]\n",
        "  return x\n",
        "\n",
        "def accuracy(prediction: torch.Tensor, target: torch.Tensor) -> torch.Tensor:\n",
        "    prediction = torch.argmax(prediction, dim=1)\n",
        "    return (prediction == target).float().mean()\n",
        "\n",
        "def cross_entropy(prediction: torch.Tensor, target: torch.Tensor) -> torch.Tensor:\n",
        "  return -prediction[range(target.shape[0]), target].mean()"
      ],
      "metadata": {
        "id": "eDsMJG83OBiR"
      },
      "execution_count": 6,
      "outputs": []
    },
    {
      "cell_type": "code",
      "source": [
        "epochs = 20\n",
        "lr = 0.1\n",
        "\n",
        "n = x_train.shape[0]\n",
        "bs = 64\n",
        "\n",
        "# initialization\n",
        "weights = torch.randn(784, 10).requires_grad_()\n",
        "bias = torch.randn(10).requires_grad_()\n",
        "loss_func = cross_entropy\n",
        "\n",
        "# learning loop\n",
        "for epoch in range(epochs):\n",
        "    for ii in range((n - 1) // bs + 1):\n",
        "      # indexes\n",
        "      start_idx = ii * bs\n",
        "      end_idx = start_idx + bs\n",
        "\n",
        "      # pull batches from x and from y\n",
        "      xb = x_train[start_idx:end_idx]\n",
        "      yb = y_train[start_idx:end_idx]\n",
        "\n",
        "      # make prediction\n",
        "      prediction = model(xb)\n",
        "      loss = loss_func(prediction, yb)\n",
        "      loss.backward()\n",
        "\n",
        "      # update weights\n",
        "      with torch.no_grad():\n",
        "            weights -= weights.grad * lr\n",
        "            bias -= bias.grad * lr\n",
        "            weights.grad.zero_()\n",
        "            bias.grad.zero_()\n",
        "\n",
        "    # print(loss)\n",
        "    # print(f\"epoch {epoch}: {accuracy(prediction, yb)}\")"
      ],
      "metadata": {
        "id": "-thtc4w8SOly"
      },
      "execution_count": 7,
      "outputs": []
    },
    {
      "cell_type": "code",
      "source": [
        "index = random.randint(0, y_train.shape[0])\n",
        "show_image(image = x_train[index], title = y_train[index])\n",
        "\n",
        "prediction = model(x_train[index][None, :]).argmax()\n",
        "print(f\"predicted: {prediction}\")"
      ],
      "metadata": {
        "colab": {
          "base_uri": "https://localhost:8080/",
          "height": 154
        },
        "id": "wpGBEI4zVf30",
        "outputId": "f494118f-314d-40f7-cf72-59e2f1f9f198"
      },
      "execution_count": 8,
      "outputs": [
        {
          "output_type": "stream",
          "name": "stdout",
          "text": [
            "predicted: 9\n"
          ]
        },
        {
          "output_type": "display_data",
          "data": {
            "text/plain": [
              "<Figure size 100x100 with 1 Axes>"
            ],
            "image/png": "[encoded data removed]"
          },
          "metadata": {}
        }
      ]
    },
    {
      "cell_type": "code",
      "source": [],
      "metadata": {
        "id": "KQYPVE8CYqHt"
      },
      "execution_count": 8,
      "outputs": []
    },
    {
      "cell_type": "markdown",
      "source": [
        "# nn.Module"
      ],
      "metadata": {
        "id": "okJ3VY5BcqF6"
      }
    },
    {
      "cell_type": "code",
      "source": [
        "from torch import nn\n",
        "import torch.nn.functional as F\n",
        "\n",
        "class MNISTLogistic(nn.Module):\n",
        "    def __init__(self):\n",
        "        super().__init__()\n",
        "        self.lin = nn.Linear(784, 10)\n",
        "\n",
        "    def forward(self, xb: torch.Tensor) -> torch.Tensor:\n",
        "      return self.lin(xb)"
      ],
      "metadata": {
        "id": "8z-IgwVUZK-4"
      },
      "execution_count": 9,
      "outputs": []
    },
    {
      "cell_type": "code",
      "source": [
        "model = MNISTLogistic()\n",
        "loss_func = F.cross_entropy\n",
        "\n",
        "def fit():\n",
        "    for epoch in range(epochs):\n",
        "        for ii in range((n - 1) // bs + 1):\n",
        "            start_idx = ii * bs\n",
        "            end_idx = start_idx + bs\n",
        "            xb = x_train[start_idx:end_idx]\n",
        "            yb = y_train[start_idx:end_idx]\n",
        "\n",
        "            pred = model(xb)\n",
        "            loss = loss_func(pred, yb)\n",
        "\n",
        "            loss.backward()\n",
        "            with torch.no_grad():\n",
        "                for p in model.parameters():  # finds params automatically\n",
        "                    p -= p.grad * lr\n",
        "                model.zero_grad()\n",
        "\n",
        "fit()"
      ],
      "metadata": {
        "id": "-P4KAcAAc5mA"
      },
      "execution_count": 10,
      "outputs": []
    },
    {
      "cell_type": "code",
      "source": [
        "print(accuracy(model(xb), yb))"
      ],
      "metadata": {
        "id": "W_EfQpv6c71C",
        "outputId": "da73e581-e3f7-4215-e994-3ad71828724e",
        "colab": {
          "base_uri": "https://localhost:8080/"
        }
      },
      "execution_count": 11,
      "outputs": [
        {
          "output_type": "stream",
          "name": "stdout",
          "text": [
            "tensor(0.9375)\n"
          ]
        }
      ]
    },
    {
      "cell_type": "markdown",
      "source": [
        "# Using dataset"
      ],
      "metadata": {
        "id": "C1ZmogJJyuGL"
      }
    },
    {
      "cell_type": "code",
      "source": [
        "from torch.utils.data import Dataset\n",
        "from torch.utils.data import DataLoader"
      ],
      "metadata": {
        "id": "DG4a36hm5QMs"
      },
      "execution_count": 12,
      "outputs": []
    },
    {
      "cell_type": "code",
      "source": [
        "bs = 24\n",
        "epochs = 20"
      ],
      "metadata": {
        "id": "eyRWIzZI6hOV"
      },
      "execution_count": 20,
      "outputs": []
    },
    {
      "cell_type": "code",
      "source": [
        "%%time\n",
        "\n",
        "class CustomDataset(Dataset):\n",
        "  def __init__(\n",
        "      self,\n",
        "      data: torch.Tensor,\n",
        "      targets: torch.Tensor\n",
        "  ) -> None:\n",
        "    super().__init__()\n",
        "    self.data = data\n",
        "    self.targets = targets\n",
        "\n",
        "  def __len__(self) -> int:\n",
        "    \"\"\"Returns length of the dataset.\"\"\"\n",
        "    return self.targets.shape[0]\n",
        "\n",
        "  def __getitem__(self, index: int):\n",
        "    \"\"\"Return a datum and its target.\"\"\"\n",
        "    datum, target = self.data[index], self.targets[index]\n",
        "    return datum, target\n",
        "\n",
        "\n",
        "dataset = CustomDataset(x_train, y_train)\n",
        "dataloader = DataLoader(dataset, batch_size=bs, shuffle=False)\n",
        "\n",
        "model = MNISTLogistic()\n",
        "loss_func = F.cross_entropy\n",
        "\n",
        "def fit():\n",
        "    for epoch in range(epochs):\n",
        "        for xb,yb in dataloader:\n",
        "            pred = model(xb)\n",
        "            loss = loss_func(pred, yb)\n",
        "            loss.backward()\n",
        "            with torch.no_grad():\n",
        "                for p in model.parameters():  # finds params automatically\n",
        "                    p -= p.grad * lr\n",
        "                model.zero_grad()\n",
        "\n",
        "fit()\n",
        "\n",
        "print(accuracy(model(xb), yb))"
      ],
      "metadata": {
        "id": "rE2-iuL2gfk3",
        "outputId": "18774b76-ad80-4a2a-a69d-72619132fda7",
        "colab": {
          "base_uri": "https://localhost:8080/"
        }
      },
      "execution_count": 21,
      "outputs": [
        {
          "output_type": "stream",
          "name": "stdout",
          "text": [
            "tensor(0.8750)\n",
            "CPU times: user 28.7 s, sys: 64.1 ms, total: 28.8 s\n",
            "Wall time: 29.2 s\n"
          ]
        }
      ]
    },
    {
      "cell_type": "code",
      "source": [
        "device = torch.device(\"cuda\") if torch.cuda.is_available() else torch.device(\"cpu\") # updated\n",
        "device"
      ],
      "metadata": {
        "id": "J04ZWrjb5U9E"
      },
      "execution_count": 22,
      "outputs": []
    },
    {
      "cell_type": "code",
      "source": [
        "%%time\n",
        "\n",
        "class CustomDataset(Dataset):\n",
        "  def __init__(\n",
        "      self,\n",
        "      data: torch.Tensor,\n",
        "      targets: torch.Tensor\n",
        "  ) -> None:\n",
        "    super().__init__()\n",
        "    self.data = data.to(device) # updated\n",
        "    self.targets = targets.to(device) # updated\n",
        "\n",
        "  def __len__(self) -> int:\n",
        "    \"\"\"Returns length of the dataset.\"\"\"\n",
        "    return self.targets.shape[0]\n",
        "\n",
        "  def __getitem__(self, index: int):\n",
        "    \"\"\"Return a datum and its target.\"\"\"\n",
        "    datum, target = self.data[index], self.targets[index]\n",
        "    return datum, target\n",
        "\n",
        "dataset = CustomDataset(x_train, y_train)\n",
        "dataloader = DataLoader(dataset, batch_size=bs, shuffle=False)\n",
        "\n",
        "model = MNISTLogistic()\n",
        "model.to(device) # updated\n",
        "\n",
        "loss_func = F.cross_entropy\n",
        "\n",
        "def fit():\n",
        "    for epoch in range(epochs):\n",
        "        for xb, yb in dataloader:\n",
        "            pred = model(xb)\n",
        "            loss = loss_func(pred, yb)\n",
        "            loss.backward()\n",
        "            with torch.no_grad():\n",
        "                for p in model.parameters():  # finds params automatically\n",
        "                    p -= p.grad * lr\n",
        "                model.zero_grad()\n",
        "\n",
        "fit()\n"
      ],
      "metadata": {
        "id": "ZtRZwT_u2tqb",
        "outputId": "72ef7076-2120-4d00-f580-2fe6b79a52d2",
        "colab": {
          "base_uri": "https://localhost:8080/"
        }
      },
      "execution_count": 23,
      "outputs": [
        {
          "output_type": "stream",
          "name": "stdout",
          "text": [
            "CPU times: user 30.9 s, sys: 1.15 s, total: 32 s\n",
            "Wall time: 34.6 s\n"
          ]
        }
      ]
    }
  ]
}