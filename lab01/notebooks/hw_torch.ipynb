{
  "nbformat": 4,
  "nbformat_minor": 0,
  "metadata": {
    "colab": {
      "provenance": [],
      "authorship_tag": "ABX9TyNCojqPw+V8qHOz3IIzs1//",
      "include_colab_link": true
    },
    "kernelspec": {
      "name": "python3",
      "display_name": "Python 3"
    },
    "language_info": {
      "name": "python"
    }
  },
  "cells": [
    {
      "cell_type": "markdown",
      "metadata": {
        "id": "view-in-github",
        "colab_type": "text"
      },
      "source": [
        "<a href=\"https://colab.research.google.com/github/starovit/edu-fsdl-text-recognizer-2022-labs/blob/main/lab01/notebooks/hw_torch.ipynb\" target=\"_parent\"><img src=\"https://colab.research.google.com/assets/colab-badge.svg\" alt=\"Open In Colab\"/></a>"
      ]
    },
    {
      "cell_type": "code",
      "execution_count": 68,
      "metadata": {
        "id": "unWETvtNNaAZ"
      },
      "outputs": [],
      "source": [
        "import pandas as pd\n",
        "import numpy as np\n",
        "import matplotlib.pyplot as plt"
      ]
    },
    {
      "cell_type": "code",
      "source": [
        "# 1 download MNIST\n",
        "\n",
        "from pathlib import Path\n",
        "import requests\n",
        "\n",
        "def download_mnist(path):\n",
        "  url = \"https://github.com/pytorch/tutorials/raw/main/_static/\"\n",
        "  filename = \"mnist.pkl.gz\"\n",
        "\n",
        "  Path(path).mkdir(parents=True, exist_ok=True)\n",
        "  content = requests.get(url + filename).content\n",
        "  with open(path / filename, 'wb') as file:\n",
        "      file.write(content)\n",
        "\n",
        "  return path / filename\n",
        "\n",
        "path = Path(\"data/\")\n",
        "datafile = download_mnist(path)"
      ],
      "metadata": {
        "id": "9hpqQYKiOHMM"
      },
      "execution_count": 74,
      "outputs": []
    },
    {
      "cell_type": "code",
      "source": [
        "# 2 read MNIST\n",
        "\n",
        "import gzip\n",
        "import pickle\n",
        "\n",
        "def read_mnist(path):\n",
        "    with gzip.open(path, \"rb\") as f:\n",
        "        # ignore test\n",
        "        ((x_train, y_train), (x_valid, y_valid), _) = pickle.load(f, encoding=\"latin-1\")\n",
        "    return x_train, y_train, x_valid, y_valid\n",
        "\n",
        "x_train, y_train, x_valid, y_valid = read_mnist(datafile)"
      ],
      "metadata": {
        "id": "xkEfFxLTP45v"
      },
      "execution_count": 104,
      "outputs": []
    },
    {
      "cell_type": "code",
      "source": [
        "# 3 data to tensors\n",
        "\n",
        "import torch\n",
        "\n",
        "x_train, y_train, x_valid, y_valid = map(\n",
        "    torch.tensor, (x_train, y_train, x_valid, y_valid)\n",
        ")"
      ],
      "metadata": {
        "id": "NvM0_VkJrlab"
      },
      "execution_count": 105,
      "outputs": []
    },
    {
      "cell_type": "code",
      "source": [
        "# 3 show random image\n",
        "\n",
        "import random\n",
        "\n",
        "def show_image(image: torch.Tensor, title: str):\n",
        "  new_shape = (int(image.shape[0]**0.5), -1)\n",
        "  image = image.reshape(new_shape)\n",
        "  plt.figure(figsize=(1,1))\n",
        "  plt.axis(\"off\")\n",
        "  plt.imshow(image, cmap=\"gray\")\n",
        "  plt.title(title)\n",
        "\n",
        "\n",
        "index = random.randint(0, y_train.shape[0])\n",
        "show_image(image = x_train[index], title = y_train[index])"
      ],
      "metadata": {
        "colab": {
          "base_uri": "https://localhost:8080/",
          "height": 136
        },
        "id": "n-vhq-d5zPA0",
        "outputId": "d568b82d-57ca-47f3-d216-0c9c42f4f605"
      },
      "execution_count": 155,
      "outputs": [
        {
          "output_type": "display_data",
          "data": {
            "text/plain": [
              "<Figure size 100x100 with 1 Axes>"
            ],
            "image/png": "[encoded data removed]"
          },
          "metadata": {}
        }
      ]
    },
    {
      "cell_type": "code",
      "source": [
        "def model(x: torch.Tensor) -> torch.Tensor:\n",
        "  x = x @ weights + bias\n",
        "  # x = torch.exp(x) / torch.sum(torch.exp(x), axis=1, keepdim=True)\n",
        "  x = x - torch.log(torch.sum(torch.exp(x), axis=1))[:, None]\n",
        "  return x\n",
        "\n",
        "def accuracy(prediction: torch.Tensor, target: torch.Tensor) -> torch.Tensor:\n",
        "    prediction = torch.argmax(prediction, dim=1)\n",
        "    return (prediction == target).float().mean()\n",
        "\n",
        "def cross_entropy(prediction: torch.Tensor, target: torch.Tensor) -> torch.Tensor:\n",
        "  return -prediction[range(target.shape[0]), target].mean()"
      ],
      "metadata": {
        "id": "eDsMJG83OBiR"
      },
      "execution_count": 264,
      "outputs": []
    },
    {
      "cell_type": "code",
      "source": [
        "epochs = 20\n",
        "lr = 0.1\n",
        "\n",
        "n = x_train.shape[0]\n",
        "bs = 64\n",
        "\n",
        "# initialization\n",
        "weights = torch.randn(784, 10).requires_grad_()\n",
        "bias = torch.randn(10).requires_grad_()\n",
        "loss_func = cross_entropy\n",
        "\n",
        "# learning loop\n",
        "for epoch in range(epochs):\n",
        "    for ii in range((n - 1) // bs + 1):\n",
        "      # indexes\n",
        "      start_idx = ii * bs\n",
        "      end_idx = start_idx + bs\n",
        "\n",
        "      # pull batches from x and from y\n",
        "      xb = x_train[start_idx:end_idx]\n",
        "      yb = y_train[start_idx:end_idx]\n",
        "\n",
        "      # make prediction\n",
        "      prediction = model(xb)\n",
        "      loss = loss_func(prediction, yb)\n",
        "      loss.backward()\n",
        "\n",
        "      # update weights\n",
        "      with torch.no_grad():\n",
        "            weights -= weights.grad * lr\n",
        "            bias -= bias.grad * lr\n",
        "            weights.grad.zero_()\n",
        "            bias.grad.zero_()\n",
        "\n",
        "    print(loss)\n",
        "    print(f\"epoch {epoch}: {accuracy(prediction, yb)}\")"
      ],
      "metadata": {
        "colab": {
          "base_uri": "https://localhost:8080/"
        },
        "id": "-thtc4w8SOly",
        "outputId": "565bef5f-7d4d-45fa-d5cf-906b1433da9d"
      },
      "execution_count": 266,
      "outputs": [
        {
          "output_type": "stream",
          "name": "stdout",
          "text": [
            "tensor(2.4106, grad_fn=<NegBackward0>)\n",
            "epoch 0: 0.75\n",
            "tensor(1.9393, grad_fn=<NegBackward0>)\n",
            "epoch 1: 0.8125\n",
            "tensor(1.6173, grad_fn=<NegBackward0>)\n",
            "epoch 2: 0.8125\n",
            "tensor(1.3673, grad_fn=<NegBackward0>)\n",
            "epoch 3: 0.875\n",
            "tensor(1.1597, grad_fn=<NegBackward0>)\n",
            "epoch 4: 0.875\n",
            "tensor(0.9839, grad_fn=<NegBackward0>)\n",
            "epoch 5: 0.875\n",
            "tensor(0.8348, grad_fn=<NegBackward0>)\n",
            "epoch 6: 0.875\n",
            "tensor(0.7085, grad_fn=<NegBackward0>)\n",
            "epoch 7: 0.875\n",
            "tensor(0.6024, grad_fn=<NegBackward0>)\n",
            "epoch 8: 0.875\n",
            "tensor(0.5142, grad_fn=<NegBackward0>)\n",
            "epoch 9: 0.875\n",
            "tensor(0.4422, grad_fn=<NegBackward0>)\n",
            "epoch 10: 0.875\n",
            "tensor(0.3846, grad_fn=<NegBackward0>)\n",
            "epoch 11: 0.875\n",
            "tensor(0.3392, grad_fn=<NegBackward0>)\n",
            "epoch 12: 0.875\n",
            "tensor(0.3036, grad_fn=<NegBackward0>)\n",
            "epoch 13: 0.875\n",
            "tensor(0.2756, grad_fn=<NegBackward0>)\n",
            "epoch 14: 0.875\n",
            "tensor(0.2534, grad_fn=<NegBackward0>)\n",
            "epoch 15: 0.875\n",
            "tensor(0.2356, grad_fn=<NegBackward0>)\n",
            "epoch 16: 0.9375\n",
            "tensor(0.2214, grad_fn=<NegBackward0>)\n",
            "epoch 17: 0.9375\n",
            "tensor(0.2097, grad_fn=<NegBackward0>)\n",
            "epoch 18: 0.9375\n",
            "tensor(0.2002, grad_fn=<NegBackward0>)\n",
            "epoch 19: 0.9375\n"
          ]
        }
      ]
    },
    {
      "cell_type": "code",
      "source": [
        "index = random.randint(0, y_train.shape[0])\n",
        "show_image(image = x_train[index], title = y_train[index])\n",
        "\n",
        "prediction = model(x_train[index][None, :]).argmax()\n",
        "print(f\"predicted: {prediction}\")"
      ],
      "metadata": {
        "colab": {
          "base_uri": "https://localhost:8080/",
          "height": 154
        },
        "id": "wpGBEI4zVf30",
        "outputId": "6a50f26f-b823-4c48-d190-a5232a7f34ec"
      },
      "execution_count": 285,
      "outputs": [
        {
          "output_type": "stream",
          "name": "stdout",
          "text": [
            "predicted: 7\n"
          ]
        },
        {
          "output_type": "display_data",
          "data": {
            "text/plain": [
              "<Figure size 100x100 with 1 Axes>"
            ],
            "image/png": "[encoded data removed]"
          },
          "metadata": {}
        }
      ]
    },
    {
      "cell_type": "code",
      "source": [],
      "metadata": {
        "id": "KQYPVE8CYqHt"
      },
      "execution_count": null,
      "outputs": []
    },
    {
      "cell_type": "code",
      "source": [],
      "metadata": {
        "id": "8z-IgwVUZK-4"
      },
      "execution_count": null,
      "outputs": []
    },
    {
      "cell_type": "code",
      "source": [],
      "metadata": {
        "id": "foIKJIVvZLQT"
      },
      "execution_count": null,
      "outputs": []
    }
  ]
}